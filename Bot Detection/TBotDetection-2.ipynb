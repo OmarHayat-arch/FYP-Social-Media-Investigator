{
  "cells": [
    {
      "cell_type": "markdown",
      "metadata": {
        "collapsed": true,
        "id": "GZon7i8TCGug"
      },
      "source": [
        "## Detecting Twitter Bots"
      ]
    },
    {
      "cell_type": "markdown",
      "metadata": {
        "id": "MsQVl0LtCGui"
      },
      "source": [
        "### Libraries"
      ]
    },
    {
      "cell_type": "code",
      "execution_count": null,
      "metadata": {
        "id": "llvwcS60CGuj"
      },
      "outputs": [],
      "source": [
        "import pandas as pd\n",
        "import numpy as np\n",
        "import matplotlib.pyplot as plt\n",
        "import matplotlib as mpl\n",
        "import seaborn as sns\n",
        "%matplotlib inline"
      ]
    },
    {
      "cell_type": "code",
      "source": [
        "from google.colab import drive\n",
        "drive.mount('/content/drive')"
      ],
      "metadata": {
        "colab": {
          "base_uri": "https://localhost:8080/"
        },
        "id": "GvenH2dgDo1u",
        "outputId": "81b784be-b46c-4e2b-aa54-fc6f25e4af8b"
      },
      "execution_count": null,
      "outputs": [
        {
          "output_type": "stream",
          "name": "stdout",
          "text": [
            "Mounted at /content/drive\n"
          ]
        }
      ]
    },
    {
      "cell_type": "code",
      "execution_count": null,
      "metadata": {
        "id": "xbbBKuqqCGuk"
      },
      "outputs": [],
      "source": [
        "file= 'BotsData.csv'\n",
        "TrainingData = pd.read_csv('drive/My Drive/Colab Notebooks/BotsData.csv')\n",
        "bot = TrainingData[TrainingData.bot==1]\n",
        "nonbot = TrainingData[TrainingData.bot==0]"
      ]
    },
    {
      "cell_type": "markdown",
      "metadata": {
        "id": "HKPdGLxwCGul"
      },
      "source": [
        "### Data Preprocessing"
      ]
    },
    {
      "cell_type": "code",
      "execution_count": null,
      "metadata": {
        "colab": {
          "base_uri": "https://localhost:8080/"
        },
        "id": "3IKONtXPCGum",
        "outputId": "9eff54e2-a400-4d9c-954c-b7bde177b1bd"
      },
      "outputs": [
        {
          "output_type": "stream",
          "name": "stderr",
          "text": [
            "/usr/local/lib/python3.7/dist-packages/ipykernel_launcher.py:1: SettingWithCopyWarning: \n",
            "A value is trying to be set on a copy of a slice from a DataFrame.\n",
            "Try using .loc[row_indexer,col_indexer] = value instead\n",
            "\n",
            "See the caveats in the documentation: https://pandas.pydata.org/pandas-docs/stable/user_guide/indexing.html#returning-a-view-versus-a-copy\n",
            "  \"\"\"Entry point for launching an IPython kernel.\n",
            "/usr/local/lib/python3.7/dist-packages/ipykernel_launcher.py:4: SettingWithCopyWarning: \n",
            "A value is trying to be set on a copy of a slice from a DataFrame.\n",
            "Try using .loc[row_indexer,col_indexer] = value instead\n",
            "\n",
            "See the caveats in the documentation: https://pandas.pydata.org/pandas-docs/stable/user_guide/indexing.html#returning-a-view-versus-a-copy\n",
            "  after removing the cwd from sys.path.\n"
          ]
        },
        {
          "output_type": "execute_result",
          "data": {
            "text/plain": [
              "(952, 21)"
            ]
          },
          "metadata": {},
          "execution_count": 8
        }
      ],
      "source": [
        "bot['friendsfollowersRatio'] = bot.friends_count/bot.followers_count\n",
        "bot[bot.friendsfollowersRatio<1].shape\n",
        "\n",
        "nonbot['friendsfollowersRatio'] = nonbot.friends_count/nonbot.followers_count\n",
        "nonbot[nonbot.friendsfollowersRatio<1].shape"
      ]
    },
    {
      "cell_type": "code",
      "execution_count": null,
      "metadata": {
        "id": "qDG62zNuCGun"
      },
      "outputs": [],
      "source": [
        "###PUBLIC LISTS MEMBER BOT VS NONBOT"
      ]
    },
    {
      "cell_type": "code",
      "execution_count": null,
      "metadata": {
        "scrolled": true,
        "colab": {
          "base_uri": "https://localhost:8080/",
          "height": 337
        },
        "id": "jX0C25UNCGun",
        "outputId": "85ac031d-0e05-4d37-b151-05d48348e686"
      },
      "outputs": [
        {
          "output_type": "stream",
          "name": "stdout",
          "text": [
            "(504, 21)\n"
          ]
        },
        {
          "output_type": "display_data",
          "data": {
            "text/plain": [
              "<Figure size 720x360 with 1 Axes>"
            ],
            "image/png": "[encoded data removed]"
          },
          "metadata": {
            "needs_background": "light"
          }
        }
      ],
      "source": [
        "plt.figure(figsize=(10,5))\n",
        "plt.plot(nonbot.listed_count, color='blue', label='NonBots')\n",
        "plt.plot(bot.listed_count, color='black', label='Bots')\n",
        "plt.legend(loc='upper right')\n",
        "plt.ylim(9000,25000)\n",
        "print(bot[(bot.listed_count<5)].shape)"
      ]
    },
    {
      "cell_type": "code",
      "execution_count": null,
      "metadata": {
        "id": "39IELACcCGuo"
      },
      "outputs": [],
      "source": [
        "botslistedcountdf = bot[bot.listed_count<16000]\n",
        "nonbotslistedcountdf = nonbot[nonbot.listed_count<16000]\n",
        "\n",
        "botsverifieddf = botslistedcountdf[botslistedcountdf.verified==False]\n",
        "botsscreennamehasbotdf = botsverifieddf[(botsverifieddf.screen_name.str.contains(\"bot\", case=False)==True)].shape"
      ]
    },
    {
      "cell_type": "code",
      "execution_count": null,
      "metadata": {
        "colab": {
          "base_uri": "https://localhost:8080/",
          "height": 456
        },
        "id": "FP64jseBCGuo",
        "outputId": "128b4a4c-8518-40cb-e888-a2f027330328"
      },
      "outputs": [
        {
          "output_type": "execute_result",
          "data": {
            "text/plain": [
              "<matplotlib.legend.Legend at 0x7f95d02f7410>"
            ]
          },
          "metadata": {},
          "execution_count": 11
        },
        {
          "output_type": "display_data",
          "data": {
            "text/plain": [
              "<Figure size 864x504 with 2 Axes>"
            ],
            "image/png": "[encoded data removed]"
          },
          "metadata": {
            "needs_background": "light"
          }
        }
      ],
      "source": [
        "plt.figure(figsize=(12,7))\n",
        "\n",
        "plt.subplot(2,1,1)\n",
        "plt.plot(botslistedcountdf.friends_count, color='black', label='Bot Friends')\n",
        "plt.plot(nonbotslistedcountdf.friends_count, color='blue', label='NonBot Friends')\n",
        "plt.legend(loc='upper right')\n",
        "\n",
        "plt.subplot(2,1,2)\n",
        "plt.plot(botslistedcountdf.followers_count, color='black', label='Bot Followers')\n",
        "plt.plot(nonbotslistedcountdf.followers_count, color='blue', label='NonBot Followers')\n",
        "plt.legend(loc='upper right')"
      ]
    },
    {
      "cell_type": "markdown",
      "metadata": {
        "id": "62S1j6KGCGup"
      },
      "source": [
        "#### Bot detection metric (Account Activity)"
      ]
    },
    {
      "cell_type": "code",
      "execution_count": null,
      "metadata": {
        "colab": {
          "base_uri": "https://localhost:8080/"
        },
        "id": "CENAVHAWCGuq",
        "outputId": "c6835b8d-e8f0-432b-c292-4287f985458a"
      },
      "outputs": [
        {
          "output_type": "stream",
          "name": "stderr",
          "text": [
            "/usr/local/lib/python3.7/dist-packages/ipykernel_launcher.py:3: SettingWithCopyWarning: \n",
            "A value is trying to be set on a copy of a slice from a DataFrame.\n",
            "Try using .loc[row_indexer,col_indexer] = value instead\n",
            "\n",
            "See the caveats in the documentation: https://pandas.pydata.org/pandas-docs/stable/user_guide/indexing.html#returning-a-view-versus-a-copy\n",
            "  This is separate from the ipykernel package so we can avoid doing imports until\n",
            "/usr/local/lib/python3.7/dist-packages/ipykernel_launcher.py:4: SettingWithCopyWarning: \n",
            "A value is trying to be set on a copy of a slice from a DataFrame.\n",
            "Try using .loc[row_indexer,col_indexer] = value instead\n",
            "\n",
            "See the caveats in the documentation: https://pandas.pydata.org/pandas-docs/stable/user_guide/indexing.html#returning-a-view-versus-a-copy\n",
            "  after removing the cwd from sys.path.\n",
            "/usr/local/lib/python3.7/dist-packages/ipykernel_launcher.py:5: SettingWithCopyWarning: \n",
            "A value is trying to be set on a copy of a slice from a DataFrame.\n",
            "Try using .loc[row_indexer,col_indexer] = value instead\n",
            "\n",
            "See the caveats in the documentation: https://pandas.pydata.org/pandas-docs/stable/user_guide/indexing.html#returning-a-view-versus-a-copy\n",
            "  \"\"\"\n"
          ]
        },
        {
          "output_type": "execute_result",
          "data": {
            "text/plain": [
              "(1321, 24)"
            ]
          },
          "metadata": {},
          "execution_count": 12
        }
      ],
      "source": [
        "condition = (bot.screen_name.str.contains(\"bot\", case=False)==True)|(bot.description.str.contains(\"bot\", case=False)==True)|(bot.location.isnull())|(bot.verified==False)\n",
        "\n",
        "bot['screennamebinary'] = (bot.screen_name.str.contains(\"bot\", case=False)==True)\n",
        "bot['locationbinary'] = (bot.location.isnull())\n",
        "bot['verifiedbinary'] = (bot.verified==False)\n",
        "bot.shape"
      ]
    },
    {
      "cell_type": "code",
      "execution_count": null,
      "metadata": {
        "colab": {
          "base_uri": "https://localhost:8080/"
        },
        "id": "8YZHTVP4CGuq",
        "outputId": "f4d1d746-2fc9-4bfb-8ebb-16febc8e5ff8"
      },
      "outputs": [
        {
          "output_type": "stream",
          "name": "stderr",
          "text": [
            "/usr/local/lib/python3.7/dist-packages/ipykernel_launcher.py:3: SettingWithCopyWarning: \n",
            "A value is trying to be set on a copy of a slice from a DataFrame.\n",
            "Try using .loc[row_indexer,col_indexer] = value instead\n",
            "\n",
            "See the caveats in the documentation: https://pandas.pydata.org/pandas-docs/stable/user_guide/indexing.html#returning-a-view-versus-a-copy\n",
            "  This is separate from the ipykernel package so we can avoid doing imports until\n",
            "/usr/local/lib/python3.7/dist-packages/ipykernel_launcher.py:4: SettingWithCopyWarning: \n",
            "A value is trying to be set on a copy of a slice from a DataFrame.\n",
            "Try using .loc[row_indexer,col_indexer] = value instead\n",
            "\n",
            "See the caveats in the documentation: https://pandas.pydata.org/pandas-docs/stable/user_guide/indexing.html#returning-a-view-versus-a-copy\n",
            "  after removing the cwd from sys.path.\n",
            "/usr/local/lib/python3.7/dist-packages/ipykernel_launcher.py:5: SettingWithCopyWarning: \n",
            "A value is trying to be set on a copy of a slice from a DataFrame.\n",
            "Try using .loc[row_indexer,col_indexer] = value instead\n",
            "\n",
            "See the caveats in the documentation: https://pandas.pydata.org/pandas-docs/stable/user_guide/indexing.html#returning-a-view-versus-a-copy\n",
            "  \"\"\"\n"
          ]
        },
        {
          "output_type": "execute_result",
          "data": {
            "text/plain": [
              "(1476, 24)"
            ]
          },
          "metadata": {},
          "execution_count": 13
        }
      ],
      "source": [
        "condition = (nonbot.screen_name.str.contains(\"bot\", case=False)==False)| (nonbot.description.str.contains(\"bot\", case=False)==False) |(nonbot.location.isnull()==False)|(nonbot.verified==True)\n",
        "\n",
        "nonbot['screennamebinary'] = (nonbot.screen_name.str.contains(\"bot\", case=False)==False)\n",
        "nonbot['locationbinary'] = (nonbot.location.isnull()==False)\n",
        "nonbot['verifiedbinary'] = (nonbot.verified==True)\n",
        "\n",
        "nonbot.shape"
      ]
    },
    {
      "cell_type": "code",
      "execution_count": null,
      "metadata": {
        "colab": {
          "base_uri": "https://localhost:8080/"
        },
        "id": "RFkrVMvoCGur",
        "outputId": "1e11ab90-dded-42c6-8448-ffc22eec7a44"
      },
      "outputs": [
        {
          "output_type": "execute_result",
          "data": {
            "text/plain": [
              "(2797, 24)"
            ]
          },
          "metadata": {},
          "execution_count": 14
        }
      ],
      "source": [
        "df = pd.concat([bot, nonbot])\n",
        "df.shape"
      ]
    },
    {
      "cell_type": "code",
      "execution_count": null,
      "metadata": {
        "id": "M_Q2_Z-ICGus"
      },
      "outputs": [],
      "source": [
        "file= open('drive/My Drive/Colab Notebooks/BotsData.csv', mode='r', encoding='utf-8', errors='ignore')\n",
        "\n",
        "TrainingData = pd.read_csv(file)\n",
        "\n",
        "StopWords = r'bot|b0t|cannabis|tweet me|mishear|follow me|updates every|gorilla|yes_ofc|forget' \\\n",
        "                    r'expos|kill|bbb|truthe|fake|anony|free|virus|funky|RNA|kuck|jargon' \\\n",
        "                    r'nerd|swag|jack|bang|bonsai|chick|prison|paper|pokem|freak|ffd|dunia|clone|genie|bbb' \\\n",
        "                    r'ffd|onlyman|emoji|joke|troll|droop|free|every|wow|cheese|yeah|bio|magic|wizard|face'\n",
        "\n",
        "###STOP WORDS TAKEN FROM https://github.com/martha92/MeTooAnalysis/blob/e2dd051866a79ccb065507d304dfd98168e6b0c2/bot_human/bot_human_custom.py\n",
        "            \n",
        "TrainingData['screennamebinary'] = TrainingData.screen_name.str.contains(StopWords, case=False, na=False)\n",
        "TrainingData['namebinary'] = TrainingData.name.str.contains(StopWords, case=False, na=False)\n",
        "TrainingData['descriptionbinary'] = TrainingData.description.str.contains(StopWords, case=False, na=False)\n",
        "TrainingData['statusbinary'] = TrainingData.status.str.contains(StopWords, case=False, na=False)"
      ]
    },
    {
      "cell_type": "code",
      "execution_count": null,
      "metadata": {
        "id": "fUWiiy4YCGus"
      },
      "outputs": [],
      "source": [
        "TrainingData['listedcountbinary'] = (TrainingData.listed_count>20000)==False\n",
        "feature = ['screennamebinary', 'namebinary', 'descriptionbinary', 'statusbinary', 'verified', 'followers_count', 'friends_count', 'statuses_count', 'listedcountbinary', 'bot']"
      ]
    },
    {
      "cell_type": "markdown",
      "metadata": {
        "id": "KjVVDHHBCGut"
      },
      "source": [
        "#### Decision Tree Classifier"
      ]
    },
    {
      "cell_type": "code",
      "execution_count": null,
      "metadata": {
        "colab": {
          "base_uri": "https://localhost:8080/"
        },
        "id": "QnbNJKzZCGut",
        "outputId": "83dd15d3-555f-400c-8867-3a2a937cc95d"
      },
      "outputs": [
        {
          "output_type": "stream",
          "name": "stdout",
          "text": [
            "Trainig Accuracy: 0.88412\n",
            "Test Accuracy: 0.87429\n"
          ]
        }
      ],
      "source": [
        "from sklearn.tree import DecisionTreeClassifier\n",
        "from sklearn.metrics import accuracy_score, roc_curve, auc\n",
        "from sklearn.model_selection import train_test_split\n",
        "\n",
        "X = TrainingData[feature].iloc[:,:-1]\n",
        "y = TrainingData[feature].iloc[:,-1]\n",
        "\n",
        "dt = DecisionTreeClassifier(criterion='entropy', min_samples_leaf=50, min_samples_split=10)\n",
        "\n",
        "X_train, X_test, y_train, y_test = train_test_split(X, y, test_size=0.25, random_state=101)\n",
        "\n",
        "dt = dt.fit(X_train, y_train)\n",
        "y_pred_train = dt.predict(X_train)\n",
        "y_pred_test = dt.predict(X_test)\n",
        "\n",
        "\n",
        "print(\"Trainig Accuracy: %.5f\" %accuracy_score(y_train, y_pred_train))\n",
        "print(\"Test Accuracy: %.5f\" %accuracy_score(y_test, y_pred_test))\n"
      ]
    },
    {
      "cell_type": "code",
      "execution_count": null,
      "metadata": {
        "colab": {
          "base_uri": "https://localhost:8080/"
        },
        "id": "Dq-Rk29kCGuu",
        "outputId": "b3140e5b-0750-4be1-9e5a-dfed942fe799"
      },
      "outputs": [
        {
          "output_type": "stream",
          "name": "stdout",
          "text": [
            "      screennamebinary  namebinary  descriptionbinary  statusbinary  verified  \\\n",
            "2409             False       False              False         False     False   \n",
            "416              False       False               True         False     False   \n",
            "1193             False       False              False         False     False   \n",
            "1970             False       False               True         False     False   \n",
            "1854             False       False              False          True      True   \n",
            "...                ...         ...                ...           ...       ...   \n",
            "931               True       False               True          True     False   \n",
            "1626             False       False              False         False      True   \n",
            "925              False       False               True          True     False   \n",
            "2440             False       False              False         False      True   \n",
            "1394             False       False              False          True      True   \n",
            "\n",
            "      followers_count  friends_count  statuses_count  listedcountbinary  \n",
            "2409               32             54              16               True  \n",
            "416           1474799              1           20990               True  \n",
            "1193                2            492              79               True  \n",
            "1970             5273            293            6636               True  \n",
            "1854             5766            333             358               True  \n",
            "...               ...            ...             ...                ...  \n",
            "931                70              0           16312               True  \n",
            "1626          1039625            176             825               True  \n",
            "925              9212              2            8996               True  \n",
            "2440          3062495           9465            6851               True  \n",
            "1394          1474073             40            8601               True  \n",
            "\n",
            "[700 rows x 9 columns]\n"
          ]
        }
      ],
      "source": [
        "print(X_test)"
      ]
    },
    {
      "cell_type": "code",
      "execution_count": null,
      "metadata": {
        "colab": {
          "base_uri": "https://localhost:8080/"
        },
        "id": "iDBdDOpRCGuu",
        "outputId": "338b642f-1170-4853-dbe1-5d28ab7c1dca"
      },
      "outputs": [
        {
          "output_type": "stream",
          "name": "stdout",
          "text": [
            "Non Bot\n"
          ]
        }
      ],
      "source": [
        "import pandas as pd\n",
        "import tweepy\n",
        "from tweepy import OAuthHandler\n",
        "import re\n",
        "import io\n",
        "import csv\n",
        "\n",
        "consumer_key=\"VAK69Ll6UrcDYWMs3neOQDkiA\"\n",
        "consumer_key_secret=\"ijMr1mzoIHUzXBs20UsEXaK90IL6fn1n9w47ocvhTRq2JF5jFn\"\n",
        "access_token=\"3075384460-34k2qIZVBjT6Xj3917Zfuc5SCrwysM1gV4k7pFM\"\n",
        "access_token_secret=\"aRLO6DUfT1MpSUGXGYJYfMKkxuYxfrbwlj7kzueGLDtQM\"\n",
        "\n",
        "auth=OAuthHandler(consumer_key,consumer_key_secret)\n",
        "auth.set_access_token(access_token,access_token_secret)\n",
        "api=tweepy.API(auth)\n",
        "\n",
        "\n",
        "\n",
        "#ob=\"everycolorbot\" #bot example\n",
        "ob=\"hassanabid085\" #not bot example\n",
        "user=api.get_user(ob)\n",
        "\n",
        "population_dict = {'screennamebinary': [user.screen_name],\n",
        "                   'namebinary': [user.name],\n",
        "                   'descriptionbinary': [user.description],\n",
        "                   'statusbinary': [user.status],\n",
        "                   'verified': [user.verified],\n",
        "                   'followers_count': [user.followers_count],\n",
        "                   'friends_count': [user.friends_count],\n",
        "                   'statuses_count': [user.statuses_count],\n",
        "                   'listedcountbinary': [user.listed_count]}\n",
        "                \n",
        "population = pd.DataFrame(population_dict)\n",
        "\n",
        "population['screennamebinary'] = population.screennamebinary.str.contains(StopWords, case=False, na=False)|(population.screennamebinary.str.contains(\"bot\", case=False)==True)\n",
        "population['namebinary'] = population.namebinary.str.contains(StopWords, case=False, na=False)\n",
        "population['descriptionbinary'] = population.descriptionbinary.str.contains(StopWords, case=False, na=False)|(population.descriptionbinary.str.contains(\"bot\", case=False)==True)\n",
        "population['statusbinary'] = population.statusbinary.str.contains(StopWords, case=False, na=False)\n",
        "population['listedcountbinary'] = (population.listedcountbinary>20000)==False\n",
        "\n",
        "if(dt.predict(population)==0):\n",
        "  print(\"Non Bot\")\n",
        "else:\n",
        "  print (\"Bot\")"
      ]
    }
  ],
  "metadata": {
    "kernelspec": {
      "display_name": "Python 3",
      "language": "python",
      "name": "python3"
    },
    "language_info": {
      "codemirror_mode": {
        "name": "ipython",
        "version": 3
      },
      "file_extension": ".py",
      "mimetype": "text/x-python",
      "name": "python",
      "nbconvert_exporter": "python",
      "pygments_lexer": "ipython3",
      "version": "3.8.5"
    },
    "colab": {
      "name": "TBotDetection.ipynb",
      "provenance": [],
      "collapsed_sections": []
    }
  },
  "nbformat": 4,
  "nbformat_minor": 0
}