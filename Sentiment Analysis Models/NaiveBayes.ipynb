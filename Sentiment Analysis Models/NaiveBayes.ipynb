{
  "nbformat": 4,
  "nbformat_minor": 0,
  "metadata": {
    "colab": {
      "name": "NaiveBayes.ipynb",
      "provenance": [],
      "collapsed_sections": []
    },
    "kernelspec": {
      "name": "python3",
      "display_name": "Python 3"
    },
    "language_info": {
      "name": "python"
    },
    "accelerator": "GPU"
  },
  "cells": [
    {
      "cell_type": "markdown",
      "metadata": {
        "id": "DpS0H22G_jpO"
      },
      "source": [
        "Importing all the necassary libraries"
      ]
    },
    {
      "cell_type": "code",
      "metadata": {
        "colab": {
          "base_uri": "https://localhost:8080/"
        },
        "id": "LBo65b8OrVFI",
        "outputId": "617844db-ee45-464d-d037-6886ccaa3609"
      },
      "source": [
        "import numpy as np\n",
        "import pandas as pd\n",
        "import os\n",
        "import math\n",
        "\n",
        "from google.colab import drive\n",
        "drive.mount('/content/drive')"
      ],
      "execution_count": 73,
      "outputs": [
        {
          "output_type": "stream",
          "name": "stdout",
          "text": [
            "Drive already mounted at /content/drive; to attempt to forcibly remount, call drive.mount(\"/content/drive\", force_remount=True).\n"
          ]
        }
      ]
    },
    {
      "cell_type": "markdown",
      "metadata": {
        "id": "UP9N8rcv_n4a"
      },
      "source": [
        "Creating a confusion matrix class that is used to evaluate the trained model after testing it on the test set"
      ]
    },
    {
      "cell_type": "code",
      "metadata": {
        "id": "sOlYtWbjyvBt"
      },
      "source": [
        "class confusion_matrix:\n",
        "  def __init__(self):\n",
        "    self.true_Real = 0\n",
        "    self.true_Fake = 0\n",
        "    self.false_Real = 0\n",
        "    self.false_Fake = 0\n",
        "    self.total = 0\n",
        "    self.right = 0\n",
        "  \n",
        "  def update_matrix(self , actual , predicted ):\n",
        "    self.total += 1\n",
        "    if actual == predicted:\n",
        "      self.right += 1\n",
        "      if actual == 'Positive':\n",
        "        self.true_Real += 1\n",
        "      else:\n",
        "        self.true_Fake += 1\n",
        "\n",
        "    if actual != predicted:\n",
        "      if actual == 'Positive':\n",
        "        self.false_Real += 1\n",
        "      else:\n",
        "        self.false_Fake += 1\n",
        "  \n",
        "  def results(self):\n",
        "    p = self.true_Real/(self.true_Real + self.false_Real )\n",
        "    r = self.true_Real/(self.true_Real + self.false_Fake )\n",
        "    print( \"Accuracy : \" , self.right/(self.total )  * 100)\n",
        "    print( \"Precision: \" , self.true_Real/(self.true_Real + self.false_Real ) * 100 )\n",
        "    print( \"Recall   : \" , self.true_Real/(self.true_Real + self.false_Fake )* 100 )\n",
        "    print( \"F1 score : \" , 2* ((p*r)/(p+r)) * 100 )"
      ],
      "execution_count": 74,
      "outputs": []
    },
    {
      "cell_type": "markdown",
      "metadata": {
        "id": "N_9lOiVG_0Me"
      },
      "source": [
        "Reading data from the given training data set and inserting it into their respective classes"
      ]
    },
    {
      "cell_type": "code",
      "metadata": {
        "id": "I9C40YVUyvcS"
      },
      "source": [
        "classes = ['Negative' , 'Positive']\n",
        "\n",
        "Train = {}\n",
        "list_of_df = []\n",
        "\n",
        "for file_name in os.listdir(r'drive/My Drive/FYP/Twitter Data/'):\n",
        "  data = pd.read_csv(r'drive/My Drive/FYP/Twitter Data/' + file_name , encoding='latin-1' , names = ['sentiment', 'id1' , 'Date' , 'query' , 'name', 'text'])\n",
        "  list_of_df.append(data)\n",
        "\n",
        "data = pd.concat(list_of_df, ignore_index=True)"
      ],
      "execution_count": 76,
      "outputs": []
    },
    {
      "cell_type": "code",
      "metadata": {
        "id": "-V5DT-j_3zhB"
      },
      "source": [
        "# Drop columns unnecassry\n",
        "data = data.drop(['id1' , 'Date' , 'query' , 'name'] , axis=1)"
      ],
      "execution_count": 77,
      "outputs": []
    },
    {
      "cell_type": "code",
      "metadata": {
        "id": "ZyVBqolQ4ki5"
      },
      "source": [
        "# naming sentiments\n",
        "data[\"sentiment\"].replace({0: \"Negative\", 4: \"Positive\"}, inplace=True)"
      ],
      "execution_count": 78,
      "outputs": []
    },
    {
      "cell_type": "code",
      "metadata": {
        "id": "vgy8dMj035Ln"
      },
      "source": [
        "# Shuffle the dataset\n",
        "data = data.sample(frac=1).reset_index(drop=True)"
      ],
      "execution_count": 79,
      "outputs": []
    },
    {
      "cell_type": "code",
      "source": [
        "# !pip install -q -U watermark\n",
        "# !pip install -qq transformers"
      ],
      "metadata": {
        "id": "PVlMfkng0Pdy"
      },
      "execution_count": 80,
      "outputs": []
    },
    {
      "cell_type": "code",
      "source": [
        "%reload_ext watermark\n",
        "%watermark -v -p numpy,pandas,torch,transformers"
      ],
      "metadata": {
        "colab": {
          "base_uri": "https://localhost:8080/"
        },
        "id": "5z1WLrUZ0Pg8",
        "outputId": "8b2c9772-3cab-43d0-a309-ed57c3bc07e4"
      },
      "execution_count": 81,
      "outputs": [
        {
          "output_type": "stream",
          "name": "stdout",
          "text": [
            "Python implementation: CPython\n",
            "Python version       : 3.7.12\n",
            "IPython version      : 5.5.0\n",
            "\n",
            "numpy       : 1.19.5\n",
            "pandas      : 1.1.5\n",
            "torch       : 1.10.0+cu111\n",
            "transformers: 4.14.1\n",
            "\n"
          ]
        }
      ]
    },
    {
      "cell_type": "code",
      "source": [
        "import transformers\n",
        "from transformers import BertModel, BertTokenizer, AdamW, get_linear_schedule_with_warmup\n",
        "import torch\n",
        "\n",
        "import numpy as np\n",
        "import pandas as pd\n",
        "from sklearn.model_selection import train_test_split\n",
        "\n",
        "RANDOM_SEED = 42\n",
        "np.random.seed(RANDOM_SEED)\n",
        "torch.manual_seed(RANDOM_SEED)\n",
        "\n",
        "device = torch.device(\"cuda:0\" if torch.cuda.is_available() else \"cpu\")\n",
        "device"
      ],
      "metadata": {
        "colab": {
          "base_uri": "https://localhost:8080/"
        },
        "id": "0Gop7Lcn0Pjx",
        "outputId": "ff780d13-c04e-4aab-beeb-ac601e16fc7d"
      },
      "execution_count": 84,
      "outputs": [
        {
          "output_type": "execute_result",
          "data": {
            "text/plain": [
              "device(type='cuda', index=0)"
            ]
          },
          "metadata": {},
          "execution_count": 84
        }
      ]
    },
    {
      "cell_type": "code",
      "source": [
        "Train_df, Test_df = train_test_split(data, test_size=0.1, random_state=RANDOM_SEED)\n",
        "Val_df, Test_df = train_test_split(Test_df, test_size=0.5, random_state=RANDOM_SEED)"
      ],
      "metadata": {
        "id": "pqbmG45g0Pmw"
      },
      "execution_count": 85,
      "outputs": []
    },
    {
      "cell_type": "code",
      "source": [
        ""
      ],
      "metadata": {
        "id": "pgJRH4P-0Ppg"
      },
      "execution_count": 85,
      "outputs": []
    },
    {
      "cell_type": "code",
      "source": [
        ""
      ],
      "metadata": {
        "id": "pcZMOiU_0PsR"
      },
      "execution_count": 85,
      "outputs": []
    },
    {
      "cell_type": "code",
      "metadata": {
        "id": "Yj1Edenv33Q4"
      },
      "source": [
        "# Dividing Data into train and test Sets\n",
        "\n",
        "# Split_Ratio = 0.8\n",
        "\n",
        "# Train_df = data.iloc[: int(len(data)*Split_Ratio) , :].reset_index(drop=True)\n",
        "# Test_df = data.iloc[int((len(data)*Split_Ratio)) + 1: , :].reset_index(drop=True)"
      ],
      "execution_count": 86,
      "outputs": []
    },
    {
      "cell_type": "code",
      "metadata": {
        "colab": {
          "base_uri": "https://localhost:8080/",
          "height": 424
        },
        "id": "axYVgA4p_Pft",
        "outputId": "9b28db82-51bf-472e-a22d-df7106ea6b5b"
      },
      "source": [
        "Train_df"
      ],
      "execution_count": 87,
      "outputs": [
        {
          "output_type": "execute_result",
          "data": {
            "text/html": [
              "\n",
              "  <div id=\"df-ffc8d609-6f4d-4947-9b29-3558beb5d34d\">\n",
              "    <div class=\"colab-df-container\">\n",
              "      <div>\n",
              "<style scoped>\n",
              "    .dataframe tbody tr th:only-of-type {\n",
              "        vertical-align: middle;\n",
              "    }\n",
              "\n",
              "    .dataframe tbody tr th {\n",
              "        vertical-align: top;\n",
              "    }\n",
              "\n",
              "    .dataframe thead th {\n",
              "        text-align: right;\n",
              "    }\n",
              "</style>\n",
              "<table border=\"1\" class=\"dataframe\">\n",
              "  <thead>\n",
              "    <tr style=\"text-align: right;\">\n",
              "      <th></th>\n",
              "      <th>sentiment</th>\n",
              "      <th>text</th>\n",
              "    </tr>\n",
              "  </thead>\n",
              "  <tbody>\n",
              "    <tr>\n",
              "      <th>20363</th>\n",
              "      <td>Positive</td>\n",
              "      <td>heading to cinema later.</td>\n",
              "    </tr>\n",
              "    <tr>\n",
              "      <th>1378676</th>\n",
              "      <td>Positive</td>\n",
              "      <td>@nrthwstgal The store didn't have beef in the ...</td>\n",
              "    </tr>\n",
              "    <tr>\n",
              "      <th>1255287</th>\n",
              "      <td>Positive</td>\n",
              "      <td>Off work early. Yay</td>\n",
              "    </tr>\n",
              "    <tr>\n",
              "      <th>12577</th>\n",
              "      <td>Positive</td>\n",
              "      <td>@saraxoxoxo wait waaa are u getting a new phon...</td>\n",
              "    </tr>\n",
              "    <tr>\n",
              "      <th>600281</th>\n",
              "      <td>Negative</td>\n",
              "      <td>I hope Shannons divorce isn't 2 brutal.... why...</td>\n",
              "    </tr>\n",
              "    <tr>\n",
              "      <th>...</th>\n",
              "      <td>...</td>\n",
              "      <td>...</td>\n",
              "    </tr>\n",
              "    <tr>\n",
              "      <th>259178</th>\n",
              "      <td>Positive</td>\n",
              "      <td>Going home.. Ill see all my truestar @ 6ish</td>\n",
              "    </tr>\n",
              "    <tr>\n",
              "      <th>1414414</th>\n",
              "      <td>Positive</td>\n",
              "      <td>Is watching tv with danica and delania</td>\n",
              "    </tr>\n",
              "    <tr>\n",
              "      <th>131932</th>\n",
              "      <td>Negative</td>\n",
              "      <td>@RogueReverend One of the comments said &amp;quot;...</td>\n",
              "    </tr>\n",
              "    <tr>\n",
              "      <th>671155</th>\n",
              "      <td>Positive</td>\n",
              "      <td>is waiting for the trainnnnn</td>\n",
              "    </tr>\n",
              "    <tr>\n",
              "      <th>121958</th>\n",
              "      <td>Negative</td>\n",
              "      <td>@fiannan Star Ocean 4!!! *hyperventilates* I w...</td>\n",
              "    </tr>\n",
              "  </tbody>\n",
              "</table>\n",
              "<p>1440013 rows × 2 columns</p>\n",
              "</div>\n",
              "      <button class=\"colab-df-convert\" onclick=\"convertToInteractive('df-ffc8d609-6f4d-4947-9b29-3558beb5d34d')\"\n",
              "              title=\"Convert this dataframe to an interactive table.\"\n",
              "              style=\"display:none;\">\n",
              "        \n",
              "  <svg xmlns=\"http://www.w3.org/2000/svg\" height=\"24px\"viewBox=\"0 0 24 24\"\n",
              "       width=\"24px\">\n",
              "    <path d=\"M0 0h24v24H0V0z\" fill=\"none\"/>\n",
              "    <path d=\"M18.56 5.44l.94 2.06.94-2.06 2.06-.94-2.06-.94-.94-2.06-.94 2.06-2.06.94zm-11 1L8.5 8.5l.94-2.06 2.06-.94-2.06-.94L8.5 2.5l-.94 2.06-2.06.94zm10 10l.94 2.06.94-2.06 2.06-.94-2.06-.94-.94-2.06-.94 2.06-2.06.94z\"/><path d=\"M17.41 7.96l-1.37-1.37c-.4-.4-.92-.59-1.43-.59-.52 0-1.04.2-1.43.59L10.3 9.45l-7.72 7.72c-.78.78-.78 2.05 0 2.83L4 21.41c.39.39.9.59 1.41.59.51 0 1.02-.2 1.41-.59l7.78-7.78 2.81-2.81c.8-.78.8-2.07 0-2.86zM5.41 20L4 18.59l7.72-7.72 1.47 1.35L5.41 20z\"/>\n",
              "  </svg>\n",
              "      </button>\n",
              "      \n",
              "  <style>\n",
              "    .colab-df-container {\n",
              "      display:flex;\n",
              "      flex-wrap:wrap;\n",
              "      gap: 12px;\n",
              "    }\n",
              "\n",
              "    .colab-df-convert {\n",
              "      background-color: #E8F0FE;\n",
              "      border: none;\n",
              "      border-radius: 50%;\n",
              "      cursor: pointer;\n",
              "      display: none;\n",
              "      fill: #1967D2;\n",
              "      height: 32px;\n",
              "      padding: 0 0 0 0;\n",
              "      width: 32px;\n",
              "    }\n",
              "\n",
              "    .colab-df-convert:hover {\n",
              "      background-color: #E2EBFA;\n",
              "      box-shadow: 0px 1px 2px rgba(60, 64, 67, 0.3), 0px 1px 3px 1px rgba(60, 64, 67, 0.15);\n",
              "      fill: #174EA6;\n",
              "    }\n",
              "\n",
              "    [theme=dark] .colab-df-convert {\n",
              "      background-color: #3B4455;\n",
              "      fill: #D2E3FC;\n",
              "    }\n",
              "\n",
              "    [theme=dark] .colab-df-convert:hover {\n",
              "      background-color: #434B5C;\n",
              "      box-shadow: 0px 1px 3px 1px rgba(0, 0, 0, 0.15);\n",
              "      filter: drop-shadow(0px 1px 2px rgba(0, 0, 0, 0.3));\n",
              "      fill: #FFFFFF;\n",
              "    }\n",
              "  </style>\n",
              "\n",
              "      <script>\n",
              "        const buttonEl =\n",
              "          document.querySelector('#df-ffc8d609-6f4d-4947-9b29-3558beb5d34d button.colab-df-convert');\n",
              "        buttonEl.style.display =\n",
              "          google.colab.kernel.accessAllowed ? 'block' : 'none';\n",
              "\n",
              "        async function convertToInteractive(key) {\n",
              "          const element = document.querySelector('#df-ffc8d609-6f4d-4947-9b29-3558beb5d34d');\n",
              "          const dataTable =\n",
              "            await google.colab.kernel.invokeFunction('convertToInteractive',\n",
              "                                                     [key], {});\n",
              "          if (!dataTable) return;\n",
              "\n",
              "          const docLinkHtml = 'Like what you see? Visit the ' +\n",
              "            '<a target=\"_blank\" href=https://colab.research.google.com/notebooks/data_table.ipynb>data table notebook</a>'\n",
              "            + ' to learn more about interactive tables.';\n",
              "          element.innerHTML = '';\n",
              "          dataTable['output_type'] = 'display_data';\n",
              "          await google.colab.output.renderOutput(dataTable, element);\n",
              "          const docLink = document.createElement('div');\n",
              "          docLink.innerHTML = docLinkHtml;\n",
              "          element.appendChild(docLink);\n",
              "        }\n",
              "      </script>\n",
              "    </div>\n",
              "  </div>\n",
              "  "
            ],
            "text/plain": [
              "        sentiment                                               text\n",
              "20363    Positive                          heading to cinema later. \n",
              "1378676  Positive  @nrthwstgal The store didn't have beef in the ...\n",
              "1255287  Positive                               Off work early. Yay \n",
              "12577    Positive  @saraxoxoxo wait waaa are u getting a new phon...\n",
              "600281   Negative  I hope Shannons divorce isn't 2 brutal.... why...\n",
              "...           ...                                                ...\n",
              "259178   Positive       Going home.. Ill see all my truestar @ 6ish \n",
              "1414414  Positive            Is watching tv with danica and delania \n",
              "131932   Negative  @RogueReverend One of the comments said &quot;...\n",
              "671155   Positive                      is waiting for the trainnnnn \n",
              "121958   Negative  @fiannan Star Ocean 4!!! *hyperventilates* I w...\n",
              "\n",
              "[1440013 rows x 2 columns]"
            ]
          },
          "metadata": {},
          "execution_count": 87
        }
      ]
    },
    {
      "cell_type": "code",
      "metadata": {
        "id": "Q7WH0Hx37NzU"
      },
      "source": [
        "Train = dict.fromkeys(classes,[])\n",
        "Test = dict.fromkeys(classes,[])\n",
        "\n",
        "for c in classes:\n",
        "  Train[c] = Train_df.loc[Train_df['sentiment'] == c ]['text'].tolist()\n",
        "  Test[c] = Test_df.loc[Test_df['sentiment'] == c]['text'].tolist()"
      ],
      "execution_count": 88,
      "outputs": []
    },
    {
      "cell_type": "markdown",
      "metadata": {
        "id": "ovUtpAiE_67t"
      },
      "source": [
        "Reading the given stop words "
      ]
    },
    {
      "cell_type": "code",
      "metadata": {
        "id": "fUGVsCXZ9w9-"
      },
      "source": [
        "#### Read the stop words\n",
        "# f = open( r'drive/My Drive/NLP/Assignment 5/data/stopwords-ur.txt'  ,'rt', encoding=\"utf-8-sig\" )\n",
        "# stop_words = f.read().split('\\n')"
      ],
      "execution_count": 89,
      "outputs": []
    },
    {
      "cell_type": "markdown",
      "metadata": {
        "id": "UUPr0CDE_-AJ"
      },
      "source": [
        "A function that takes the training data set and makes a vocabulary of unique words. It also takes in a bool that determines whether it should include stopwords or not"
      ]
    },
    {
      "cell_type": "code",
      "metadata": {
        "id": "yyjsRJg-8Yyq"
      },
      "source": [
        "def makeVocabulary(T , stopwords = False):\n",
        "  V = set()\n",
        "  for c in T:\n",
        "    for text in T[c]:\n",
        "      words = text.split()\n",
        "      for word in words:\n",
        "        if stopwords == True and word in stop_words:\n",
        "          continue\n",
        "        V.add(word)\n",
        "  V = list(V)\n",
        "  return V"
      ],
      "execution_count": 90,
      "outputs": []
    },
    {
      "cell_type": "markdown",
      "metadata": {
        "id": "MnjDhBeYAMKy"
      },
      "source": [
        "Function that given a set of classes and train dataset, Trains a conditionalProbability model for fake news classification. It also takes in two bools. Bool 'booleanNB' determines whether the boolean Naive Bayes algorithm will be used to train the data set and boolean 'stopwords' determine whether the stopwords are to be considered while training"
      ]
    },
    {
      "cell_type": "code",
      "metadata": {
        "id": "ei_VBDa5yjvu"
      },
      "source": [
        "def TrainMultinomialNB(C, T , booleanNB = False , stopwords = False ):\n",
        "  V = makeVocabulary(T , stopwords)\n",
        "  Priors = {}\n",
        "  condProb = {}\n",
        "\n",
        "  sum_of_priors = 0\n",
        "\n",
        "  for c in C:\n",
        "    sum_of_priors += len(T[c])\n",
        "  \n",
        "  for c in C:\n",
        "    Priors[c] = len(T[c])/sum_of_priors\n",
        "\n",
        "    doc = []\n",
        "    for text in T[c]:\n",
        "      templist = text.split()\n",
        "\n",
        "      if booleanNB == True:\n",
        "        doc += list(set(text.split()))\n",
        "      else:\n",
        "        doc += text.split()\n",
        "\n",
        "    count_words = dict.fromkeys( V , 0 )\n",
        "    for word in doc:\n",
        "      if word in count_words.keys():\n",
        "        if stopwords == True and word in stop_words:\n",
        "          continue\n",
        "        count_words[word] += 1\n",
        "\n",
        "    \n",
        "    for word in V:\n",
        "      condProb[word , c] = ( count_words[word] + 1 ) / ( len(doc) + len(V) ) \n",
        "\n",
        "  return V , Priors , condProb"
      ],
      "execution_count": 91,
      "outputs": []
    },
    {
      "cell_type": "markdown",
      "metadata": {
        "id": "8-2Q98iLArFp"
      },
      "source": [
        "A function that takes in the vocabulary, the classes, the condtitional probabilty model and the test text and determines in which class the test text belongs. It also takes in a bool to specify whether it should consider stopwords or not "
      ]
    },
    {
      "cell_type": "code",
      "metadata": {
        "id": "z-US1ouuAhAI"
      },
      "source": [
        "def ApplyMultinomialNB(C, V, prior, condprob, t , stopwords = False):\n",
        "  words_from_text = t.split()\n",
        "  score = dict.fromkeys(C , 0)\n",
        "  \n",
        "  for c in C:\n",
        "    score[c] = math.log(prior[c])\n",
        "    for word in words_from_text:\n",
        "      if stopwords == True and word in stop_words:\n",
        "        continue\n",
        "      if (word , c) in condprob.keys():\n",
        "        score[c] += math.log(condprob[word , c])\n",
        "\n",
        "  if (score['Positive'] > score['Negative']):\n",
        "    return 'Positive'\n",
        "  else:\n",
        "    return 'Negative'"
      ],
      "execution_count": 92,
      "outputs": []
    },
    {
      "cell_type": "markdown",
      "metadata": {
        "id": "wM7UOorUCEte"
      },
      "source": [
        "# Train and test the **Naive Baise Model with Stop Words** on the test set"
      ]
    },
    {
      "cell_type": "code",
      "metadata": {
        "id": "9ihivlWL7e_h"
      },
      "source": [
        "### Training Naive Baise Model with Stop Words\n",
        "vocab , priors , cond_Prob = TrainMultinomialNB(classes , Train , booleanNB = False , stopwords = False)"
      ],
      "execution_count": 93,
      "outputs": []
    },
    {
      "cell_type": "code",
      "metadata": {
        "colab": {
          "base_uri": "https://localhost:8080/"
        },
        "id": "BLWXRKOPCBv6",
        "outputId": "5e011fb3-4841-4358-f20f-7f39199ecb41"
      },
      "source": [
        "results_of_NB_withStopWords = confusion_matrix()\n",
        "for c in classes:\n",
        "  for text in Test[c]:\n",
        "    result = ApplyMultinomialNB(classes, vocab, priors, cond_Prob, text , stopwords = False)\n",
        "    results_of_NB_withStopWords.update_matrix(c , result)\n",
        "  \n",
        "results_of_NB_withStopWords.results()"
      ],
      "execution_count": 94,
      "outputs": [
        {
          "output_type": "stream",
          "name": "stdout",
          "text": [
            "Accuracy :  78.34402069974125\n",
            "Precision:  73.19006781013164\n",
            "Recall   :  81.71115255086421\n",
            "F1 score :  77.2162386081193\n"
          ]
        }
      ]
    },
    {
      "cell_type": "code",
      "source": [
        ""
      ],
      "metadata": {
        "id": "fU84Xl-E1GBd"
      },
      "execution_count": null,
      "outputs": []
    }
  ]
}